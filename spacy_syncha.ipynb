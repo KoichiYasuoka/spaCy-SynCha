{
  "nbformat":4,
  "nbformat_minor":0,
  "metadata":{
    "colab":{ "name":"spaCy-SynCha on Google Colaboratory" },
    "kernelspec":{ "name":"python3" }
  },
  "cells":[
    {
      "cell_type":"markdown",
      "metadata":{ "colab_type":"text" },
      "source":[
        "# [spaCy-SynCha](https://github.com/KoichiYasuoka/spaCy-SynCha) on Google Colaboratory"
      ]
    },
    {
      "cell_type":"code",
      "metadata":{ "colab_type":"code" },
      "source":[
        "!apt install mecab libmecab-dev mecab-ipadic-utf8 lp-solve\n",
        "!test -f crfpp.tar.gz || curl -L 'https://drive.google.com/uc?export=download&id=0B4y35FiV1wh7QVR6VXJ5dWExSTQ' -o crfpp.tar.gz\n",
        "!test -d CRF++-0.58 || ( tar xzf crfpp.tar.gz && cd CRF++-0.58 && ./configure --prefix=/usr && make install )\n",
        "!curl -sc cabocha.cookie 'https://drive.google.com/uc?export=download&id=0B4y35FiV1wh7SDd1Q1dUQkZQaUU' > /dev/null\n",
        "!test -f cabocha.tar.bz2 || curl -Lb cabocha.cookie 'https://drive.google.com/uc?export=download&id=0B4y35FiV1wh7SDd1Q1dUQkZQaUU&confirm='`tr -d '\\015' < cabocha.cookie | awk '/_warning_/{print $NF}'` -o cabocha.tar.bz2\n",
        "!test -d cabocha-0.69 || ( tar xjf cabocha.tar.bz2 && cd cabocha-0.69 && ./configure --prefix=/usr --with-charset=UTF8 && make install )\n",
        "!test -f syncha-0.3.1.1.tgz || curl -LO https://raw.githubusercontent.com/KoichiYasuoka/spaCy-SynCha/master/backup/syncha-0.3.1.1.tgz\n",
        "!test -d syncha-0.3.1.1 || ( tar xzf syncha-0.3.1.1.tgz && echo 'exec /content/syncha-0.3.1.1/syncha \"$@\"' > /usr/bin/syncha && chmod 755 /usr/bin/syncha )\n",
        "!pip install spacy_syncha\n",
        "import spacy_syncha\n",
        "nlp=spacy_syncha.load(\"gendai\")\n",
        "doc=nlp(\"太郎は花子が読んでいる本を次郎に渡した\")\n",
        "import deplacy\n",
        "deplacy.render(doc,Japanese=True)\n",
        "deplacy.serve(doc,port=None)\n",
        "# import graphviz\n",
        "# graphviz.Source(deplacy.dot(doc))"
      ],
      "outputs":[
        {
          "output_type":"stream",
          "text":[
            "太郎 PROPN ═╗<══════════╗ nsubj(主語)\n",
            "は   ADP   <╝           ║ case(格表示)\n",
            "花子 PROPN ═╗<╗         ║ nsubj(主語)\n",
            "が   ADP   <╝ ║         ║ case(格表示)\n",
            "読ん VERB  ═══╝═╗═╗<╗   ║ acl(連体修飾節)\n",
            "で   SCONJ <════╝ ║ ║   ║ mark(標識)\n",
            "いる AUX   <══════╝ ║   ║ aux(動詞補助成分)\n",
            "本   NOUN  ═╗═══════╝<╗ ║ obj(目的語)\n",
            "を   ADP   <╝         ║ ║ case(格表示)\n",
            "次郎 PROPN ═╗<╗       ║ ║ iobj(間接目的語)\n",
            "に   ADP   <╝ ║       ║ ║ case(格表示)\n",
            "渡し VERB  ═╗═╝═══════╝═╝ ROOT(親)\n",
            "た   AUX   <╝             aux(動詞補助成分)\n",
            "\n"
          ]
        },
        {
          "output_type":"display_data",
          "data":{
            "text/html":[
              "<iframe width=\"100%\" height=\"400\" src=\"https://koichiyasuoka.github.io/deplacy/deplacy/editor.html#1%09%E5%A4%AA%E9%83%8E%09%E3%82%BF%E3%83%AD%E3%82%A6%09PROPN%09%E5%90%8D%E8%A9%9E-%E5%9B%BA%E6%9C%89%E5%90%8D%E8%A9%9E-%E4%BA%BA%E5%90%8D-%E5%90%8D%09_%0912%09nsubj%09_%09NE%3DB-PERSON%7CSpaceAfter%3DNo%7CTranslit%3D%E3%82%BF%E3%83%AD%E3%82%A6%0A2%09%E3%81%AF%09%E3%81%AF%09ADP%09%E5%8A%A9%E8%A9%9E-%E4%BF%82%E5%8A%A9%E8%A9%9E%09_%091%09case%09_%09SpaceAfter%3DNo%7CTranslit%3D%E3%83%8F%0A3%09%E8%8A%B1%E5%AD%90%09%E3%83%8F%E3%83%8A%E3%82%B3%09PROPN%09%E5%90%8D%E8%A9%9E-%E5%9B%BA%E6%9C%89%E5%90%8D%E8%A9%9E-%E4%BA%BA%E5%90%8D-%E5%90%8D%09_%095%09nsubj%09_%09NE%3DB-PERSON%7CSpaceAfter%3DNo%7CTranslit%3D%E3%83%8F%E3%83%8A%E3%82%B3%0A4%09%E3%81%8C%09%E3%81%8C%09ADP%09%E5%8A%A9%E8%A9%9E-%E6%A0%BC%E5%8A%A9%E8%A9%9E-%E4%B8%80%E8%88%AC%09_%093%09case%09_%09SpaceAfter%3DNo%7CTranslit%3D%E3%82%AC%0A5%09%E8%AA%AD%E3%82%93%09%E8%AA%AD%E3%82%80%09VERB%09%E5%8B%95%E8%A9%9E-%E8%87%AA%E7%AB%8B%09_%098%09acl%09_%09SpaceAfter%3DNo%7CTranslit%3D%E3%83%A8%E3%83%B3%0A6%09%E3%81%A7%09%E3%81%A6%09SCONJ%09%E5%8A%A9%E8%A9%9E-%E6%8E%A5%E7%B6%9A%E5%8A%A9%E8%A9%9E%09_%095%09mark%09_%09SpaceAfter%3DNo%7CTranslit%3D%E3%83%87%0A7%09%E3%81%84%E3%82%8B%09%E5%B1%85%E3%82%8B%09AUX%09%E5%8B%95%E8%A9%9E-%E9%9D%9E%E8%87%AA%E7%AB%8B%09_%095%09aux%09_%09SpaceAfter%3DNo%7CTranslit%3D%E3%82%A4%E3%83%AB%0A8%09%E6%9C%AC%09%E6%9C%AC%09NOUN%09%E5%90%8D%E8%A9%9E-%E4%B8%80%E8%88%AC%09_%0912%09obj%09_%09SpaceAfter%3DNo%7CTranslit%3D%E3%83%9B%E3%83%B3%0A9%09%E3%82%92%09%E3%82%92%09ADP%09%E5%8A%A9%E8%A9%9E-%E6%A0%BC%E5%8A%A9%E8%A9%9E-%E4%B8%80%E8%88%AC%09_%098%09case%09_%09SpaceAfter%3DNo%7CTranslit%3D%E3%83%B2%0A10%09%E6%AC%A1%E9%83%8E%09%E3%82%B8%E3%83%AD%E3%82%A6%09PROPN%09%E5%90%8D%E8%A9%9E-%E5%9B%BA%E6%9C%89%E5%90%8D%E8%A9%9E-%E4%BA%BA%E5%90%8D-%E5%90%8D%09_%0912%09iobj%09_%09NE%3DB-PERSON%7CSpaceAfter%3DNo%7CTranslit%3D%E3%82%B8%E3%83%AD%E3%82%A6%0A11%09%E3%81%AB%09%E3%81%AB%09ADP%09%E5%8A%A9%E8%A9%9E-%E6%A0%BC%E5%8A%A9%E8%A9%9E-%E4%B8%80%E8%88%AC%09_%0910%09case%09_%09SpaceAfter%3DNo%7CTranslit%3D%E3%83%8B%0A12%09%E6%B8%A1%E3%81%97%09%E6%B8%A1%E3%81%99%09VERB%09%E5%8B%95%E8%A9%9E-%E8%87%AA%E7%AB%8B%09_%090%09ROOT%09_%09SpaceAfter%3DNo%7CTranslit%3D%E3%83%AF%E3%82%BF%E3%82%B7%0A13%09%E3%81%9F%09%E3%81%9F%09AUX%09%E5%8A%A9%E5%8B%95%E8%A9%9E%09_%0912%09aux%09_%09SpaceAfter%3DNo%7CTranslit%3D%E3%82%BF%0A%0A\" frameborder=\"0\" allowfullscreen></iframe>\n"
            ]
          }
        }
      ]
    }
  ]
}
