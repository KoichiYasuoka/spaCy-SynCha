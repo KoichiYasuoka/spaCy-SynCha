{
  "nbformat":4,
  "nbformat_minor":0,
  "metadata":{
    "colab":{ "name":"spaCy-SynCha on Google Colaboratory" },
    "kernelspec":{ "name":"python3" }
  },
  "cells":[
    {
      "cell_type":"markdown",
      "metadata":{ "colab_type":"text" },
      "source":[
        "# [spaCy-SynCha](https://github.com/KoichiYasuoka/spaCy-SynCha) on Google Colaboratory"
      ]
    },
    {
      "cell_type":"code",
      "metadata":{ "colab_type":"code" },
      "source":[
        "!apt install mecab libmecab-dev mecab-ipadic-utf8 lp-solve\n",
        "!test -f crfpp.tar.gz || wget -O crfpp.tar.gz 'https://drive.google.com/uc?export=download&id=0B4y35FiV1wh7QVR6VXJ5dWExSTQ'\n",
        "!test -d CRF++-0.58 || ( tar xzf crfpp.tar.gz && cd CRF++-0.58 && ./configure --prefix=/usr && make install )\n",
        "!curl -sc cabocha.cookie 'https://drive.google.com/uc?export=download&id=0B4y35FiV1wh7SDd1Q1dUQkZQaUU'\n",
        "!test -f cabocha.tar.bz2 || curl -Lb cabocha.cookie 'https://drive.google.com/uc?export=download&id=0B4y35FiV1wh7SDd1Q1dUQkZQaUU&confirm='`tr -d '\\015' < cabocha.cookie | awk '/_warning_/{print $NF}'` -o cabocha.tar.bz2\n",
        "!test -d cabocha-0.69 || ( tar xjf cabocha.tar.bz2 && cd cabocha-0.69 && ./configure --prefix=/usr --with-charset=UTF8 && make install )\n",
        "!test -f syncha.tar.gz || wget -O syncha.tar.gz 'https://drive.google.com/uc?export=download&id=0B4wOZ_esMVcMazQ0eGdtMnBCaWs'\n",
        "!test -d syncha-0.3.1.1 || ( tar xzf syncha.tar.gz && echo 'exec /content/syncha-0.3.1.1/syncha \"$@\"' > /usr/bin/syncha && chmod 755 /usr/bin/syncha )\n",
        "!pip install spacy_syncha\n",
        "import spacy_syncha\n",
        "nlp=spacy_syncha.load(\"gendai\")\n",
        "doc=nlp(\"太郎は花子が読んでいる本を次郎に渡した\")\n",
        "import deplacy\n",
        "deplacy.render(doc,Japanese=True)\n",
        "deplacy.serve(doc,port=None)\n",
        "import graphviz\n",
        "graphviz.Source(deplacy.dot(doc))"
      ]
    }
  ]
}
