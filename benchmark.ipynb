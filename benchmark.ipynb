{
  "nbformat":4,
  "nbformat_minor":0,
  "metadata":{
    "colab":{ "name":"舞姬/荒野より-Benchmarks of spaCy-SynCha" },
    "kernelspec":{ "name":"python3" }
  },
  "cells":[
    {
      "cell_type":"markdown",
      "metadata":{ "colab_type":"text" },
      "source":[
        "# 舞姬/荒野より-Benchmarks of [spaCy-SynCha](https://github.com/KoichiYasuoka/spaCy-SynCha)"
      ]
    },
    {
      "cell_type":"code",
      "metadata":{ "colab_type":"code" },
      "source":[
        "!apt install mecab libmecab-dev mecab-ipadic-utf8 lp-solve\n",
        "!test -f crfpp.tar.gz || curl -L 'https://drive.google.com/uc?export=download&id=0B4y35FiV1wh7QVR6VXJ5dWExSTQ' -o crfpp.tar.gz\n",
        "!test -d CRF++-0.58 || ( tar xzf crfpp.tar.gz && cd CRF++-0.58 && ./configure --prefix=/usr && make install )\n",
        "!curl -sc cabocha.cookie 'https://drive.google.com/uc?export=download&id=0B4y35FiV1wh7SDd1Q1dUQkZQaUU' > /dev/null\n",
        "!test -f cabocha.tar.bz2 || curl -Lb cabocha.cookie 'https://drive.google.com/uc?export=download&id=0B4y35FiV1wh7SDd1Q1dUQkZQaUU&confirm='`tr -d '\\015' < cabocha.cookie | awk '/_warning_/{print $NF}'` -o cabocha.tar.bz2\n",
        "!test -d cabocha-0.69 || ( tar xjf cabocha.tar.bz2 && cd cabocha-0.69 && ./configure --prefix=/usr --with-charset=UTF8 && make install )\n",
        "!test -f syncha.tar.gz || curl -L 'https://drive.google.com/uc?export=download&id=0B4wOZ_esMVcMazQ0eGdtMnBCaWs' -o syncha.tar.gz\n",
        "!test -d syncha-0.3.1.1 || ( tar xzf syncha.tar.gz && echo 'exec /content/syncha-0.3.1.1/syncha \"$@\"' > /usr/bin/syncha && chmod 755 /usr/bin/syncha )\n",
        "!pip install spacy_syncha\n",
        "!curl -L https://raw.githubusercontent.com/KoichiYasuoka/UniDic2UD/master/benchmark/maihime-benchmark.tar.gz | tar xzf -\n",
        "!sh benchmark.sh spacy_syncha 'load(\"kindai\")' maihime.conllu\n",
        "!sh benchmark.sh spacy_syncha 'load(\"qkana\")' maihime.conllu\n",
        "!sh benchmark.sh spacy_syncha 'load(\"kinsei\")' maihime.conllu\n",
        "!curl -L https://raw.githubusercontent.com/KoichiYasuoka/UniDic2UD/master/benchmark/koyayori-benchmark.tar.gz | tar xzf -\n",
        "!sh benchmark.sh spacy_syncha 'load(\"kindai\")' koyayori.conllu\n",
        "!sh benchmark.sh spacy_syncha 'load(\"spoken\")' koyayori.conllu\n",
        "!sh benchmark.sh spacy_syncha 'load(\"gendai\")' koyayori.conllu"
      ],
      "outputs":[
        {
          "output_type":"stream",
          "text":[
            "### spacy_syncha.load(\"kindai\") maihime.conllu\n",
            "LAS F1 Score: 83.02\n",
            "MLAS Score: 66.67\n",
            "BLEX Score: 70.37\n",
            "### spacy_syncha.load(\"qkana\") maihime.conllu\n",
            "LAS F1 Score: 81.13\n",
            "MLAS Score: 66.67\n",
            "BLEX Score: 70.37\n",
            "### spacy_syncha.load(\"kinsei\") maihime.conllu\n",
            "LAS F1 Score: 72.22\n",
            "MLAS Score: 57.14\n",
            "BLEX Score: 57.14\n",
            "### spacy_syncha.load(\"kindai\") koyayori.conllu\n",
            "LAS F1 Score: 67.72\n",
            "MLAS Score: 35.14\n",
            "BLEX Score: 45.95\n",
            "### spacy_syncha.load(\"spoken\") koyayori.conllu\n",
            "LAS F1 Score: 63.49\n",
            "MLAS Score: 32.43\n",
            "BLEX Score: 43.24\n",
            "### spacy_syncha.load(\"gendai\") koyayori.conllu\n",
            "LAS F1 Score: 62.43\n",
            "MLAS Score: 32.43\n",
            "BLEX Score: 43.24\n",
            "\n"
          ]
        }
      ]
    }
  ]
}
