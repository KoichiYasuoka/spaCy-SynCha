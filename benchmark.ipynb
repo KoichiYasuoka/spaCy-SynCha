{
  "nbformat":4,
  "nbformat_minor":0,
  "metadata":{
    "colab":{ "name":"舞姬/雪國/荒野より-Benchmarks of spaCy-SynCha" },
    "kernelspec":{ "name":"python3" }
  },
  "cells":[
    {
      "cell_type":"markdown",
      "metadata":{ "colab_type":"text" },
      "source":[
        "# [舞姬/雪國/荒野より-Benchmarks](https://github.com/KoichiYasuoka/UniDic2UD/tree/master/benchmark) of [spaCy-SynCha](https://github.com/KoichiYasuoka/spaCy-SynCha)"
      ]
    },
    {
      "cell_type":"code",
      "metadata":{ "colab_type":"code" },
      "source":[
        "!apt install mecab libmecab-dev mecab-ipadic-utf8 lp-solve\n",
        "!pip install gdown\n",
        "!test -f CRF++-0.58.tar.gz || gdown 'https://drive.google.com/uc?export=download&id=0B4y35FiV1wh7QVR6VXJ5dWExSTQ'\n",
        "!test -d CRF++-0.58 || ( tar xzf CRF++-0.58.tar.gz && cd CRF++-0.58 && ./configure --prefix=/usr && make install )\n",
        "!test -f cabocha-0.69.tar.bz2 || gdown 'https://drive.google.com/uc?export=download&id=0B4y35FiV1wh7SDd1Q1dUQkZQaUU'\n",
        "!test -d cabocha-0.69 || ( tar xjf cabocha-0.69.tar.bz2 && cd cabocha-0.69 && ./configure --prefix=/usr --with-charset=UTF8 && make install )\n",
        "!test -f syncha-0.3.1.1.tgz || curl -LO https://raw.githubusercontent.com/KoichiYasuoka/spaCy-SynCha/master/backup/syncha-0.3.1.1.tgz\n",
        "!test -d syncha-0.3.1.1 || ( tar xzf syncha-0.3.1.1.tgz && echo 'exec /content/syncha-0.3.1.1/syncha \"$@\"' > /usr/bin/syncha && chmod 755 /usr/bin/syncha )\n",
        "!pip install spacy_syncha\n",
        "!curl -L https://raw.githubusercontent.com/KoichiYasuoka/UniDic2UD/master/benchmark/maihime-benchmark.tar.gz | tar xzf -\n",
        "!sh benchmark.sh spacy_syncha 'load(\"kindai\")' maihime.conllu\n",
        "!sh benchmark.sh spacy_syncha 'load(\"qkana\")' maihime.conllu\n",
        "!sh benchmark.sh spacy_syncha 'load(\"kinsei\")' maihime.conllu\n",
        "!curl -L https://raw.githubusercontent.com/KoichiYasuoka/UniDic2UD/master/benchmark/yukiguni-benchmark.tar.gz | tar xzf -\n",
        "!sh benchmark.sh spacy_syncha 'load(\"qkana\")' yukiguni.conllu\n",
        "!sh benchmark.sh spacy_syncha 'load(\"kinsei\")' yukiguni.conllu\n",
        "!sh benchmark.sh spacy_syncha 'load(\"kindai\")' yukiguni.conllu\n",
        "!curl -L https://raw.githubusercontent.com/KoichiYasuoka/UniDic2UD/master/benchmark/koyayori-benchmark.tar.gz | tar xzf -\n",
        "!sh benchmark.sh spacy_syncha 'load(\"kindai\")' koyayori.conllu\n",
        "!sh benchmark.sh spacy_syncha 'load(\"qkana\")' koyayori.conllu\n",
        "!sh benchmark.sh spacy_syncha 'load(\"kinsei\")' koyayori.conllu"
      ],
      "outputs":[
        {
          "output_type":"stream",
          "text":[
            "### spacy_syncha.load(\"kindai\") maihime.conllu\n",
            "LAS F1 Score: 84.91\n",
            "MLAS Score: 70.37\n",
            "BLEX Score: 74.07\n",
            "### spacy_syncha.load(\"qkana\") maihime.conllu\n",
            "LAS F1 Score: 81.13\n",
            "MLAS Score: 66.67\n",
            "BLEX Score: 70.37\n",
            "### spacy_syncha.load(\"kinsei\") maihime.conllu\n",
            "LAS F1 Score: 72.22\n",
            "MLAS Score: 57.14\n",
            "BLEX Score: 57.14\n",
            "\n",
            "### spacy_syncha.load(\"qkana\") yukiguni.conllu\n",
            "LAS F1 Score: 87.50\n",
            "MLAS Score: 81.63\n",
            "BLEX Score: 77.55\n",
            "### spacy_syncha.load(\"kinsei\") yukiguni.conllu\n",
            "LAS F1 Score: 85.71\n",
            "MLAS Score: 83.33\n",
            "BLEX Score: 75.00\n",
            "### spacy_syncha.load(\"kindai\") yukiguni.conllu\n",
            "LAS F1 Score: 83.19\n",
            "MLAS Score: 77.55\n",
            "BLEX Score: 73.47\n",
            "\n",
            "### spacy_syncha.load(\"kindai\") koyayori.conllu\n",
            "LAS F1 Score: 67.02\n",
            "MLAS Score: 32.43\n",
            "BLEX Score: 43.24\n",
            "### spacy_syncha.load(\"qkana\") koyayori.conllu\n",
            "LAS F1 Score: 63.87\n",
            "MLAS Score: 32.88\n",
            "BLEX Score: 43.84\n",
            "### spacy_syncha.load(\"kinsei\") koyayori.conllu\n",
            "LAS F1 Score: 63.54\n",
            "MLAS Score: 29.73\n",
            "BLEX Score: 40.54\n",
            "\n"
          ]
        }
      ]
    }
  ]
}
